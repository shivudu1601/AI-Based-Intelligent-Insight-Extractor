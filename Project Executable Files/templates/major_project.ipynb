{
  "nbformat": 4,
  "nbformat_minor": 0,
  "metadata": {
    "colab": {
      "provenance": [],
      "toc_visible": true
    },
    "kernelspec": {
      "name": "python3",
      "display_name": "Python 3"
    },
    "language_info": {
      "name": "python"
    }
  },
  "cells": [
    {
      "cell_type": "markdown",
      "source": [
        "# **IMPORTING** **PACKAGES**"
      ],
      "metadata": {
        "id": "Xt4spmeyJtiz"
      }
    },
    {
      "cell_type": "code",
      "execution_count": 2,
      "metadata": {
        "id": "YqeKQBL0INBa"
      },
      "outputs": [],
      "source": [
        "# Importing the required packages\n",
        "import spacy\n",
        "from spacy.lang.en.stop_words import STOP_WORDS\n",
        "from string import punctuation\n",
        "import numpy as np\n",
        "\n",
        "\n"
      ]
    },
    {
      "cell_type": "code",
      "source": [
        "# passing the input data\n",
        "doc=\"\"\"Artificial neural networks are the brains behind some of the most sophisticated applications of artificial intelligence (AI). But that doesn't mean understanding the different types needs to be complicated. When it comes to artificial neural networks — computing systems that mimic components of the brain — there are serious differences in type. Understanding these distinctive forms, and their nuances and varied applications, could make the difference between success and failure in your next AI and machine learning initiative.\n",
        "\n",
        "In machine learning, each type of artificial neural network is tailored to perform certain sets of tasks. In order to explain these tasks and the best approaches to completing them, this article will introduce two types of artificial neural networks: convolutional neural networks (CNNs) and recurrent neural networks (RNNs). Read on to learn about both types, associated key terms and the real-life applications deployed today, particularly in computer vision.\n",
        "\n",
        "What's the difference between CNN and RNN?\n",
        "The main difference between a CNN and an RNN is the ability to process temporal information — data that comes in sequences, such as a sentence. Recurrent neural networks are designed for this very purpose, while convolutional neural networks are incapable of effectively interpreting temporal information. As a result, CNNs and RNNs are used for completely distinct purposes, and there are differences in the structures of the neural networks themselves to fit those different use cases.\n",
        "\n",
        "CNNs employ filters within convolutional layers to transform data (more on that later), whereas RNNs are predictive, reusing activation functions from other data points in the sequence to generate the next output in a series.\n",
        "\n",
        "Once you look at the structure of both types of neural networks and understand what they are used for, the difference between CNN and RNN becomes more clear.\"\"\"\n"
      ],
      "metadata": {
        "id": "aSFtS4kkI7Ws"
      },
      "execution_count": 3,
      "outputs": []
    },
    {
      "cell_type": "code",
      "source": [
        "print(doc)"
      ],
      "metadata": {
        "colab": {
          "base_uri": "https://localhost:8080/"
        },
        "id": "UDfYdtwzJSXb",
        "outputId": "6d91ced2-ce88-467d-94e6-bc4456861e88"
      },
      "execution_count": 4,
      "outputs": [
        {
          "output_type": "stream",
          "name": "stdout",
          "text": [
            "Artificial neural networks are the brains behind some of the most sophisticated applications of artificial intelligence (AI). But that doesn't mean understanding the different types needs to be complicated. When it comes to artificial neural networks — computing systems that mimic components of the brain — there are serious differences in type. Understanding these distinctive forms, and their nuances and varied applications, could make the difference between success and failure in your next AI and machine learning initiative.\n",
            "\n",
            "In machine learning, each type of artificial neural network is tailored to perform certain sets of tasks. In order to explain these tasks and the best approaches to completing them, this article will introduce two types of artificial neural networks: convolutional neural networks (CNNs) and recurrent neural networks (RNNs). Read on to learn about both types, associated key terms and the real-life applications deployed today, particularly in computer vision.\n",
            "\n",
            "What's the difference between CNN and RNN?\n",
            "The main difference between a CNN and an RNN is the ability to process temporal information — data that comes in sequences, such as a sentence. Recurrent neural networks are designed for this very purpose, while convolutional neural networks are incapable of effectively interpreting temporal information. As a result, CNNs and RNNs are used for completely distinct purposes, and there are differences in the structures of the neural networks themselves to fit those different use cases.\n",
            "\n",
            "CNNs employ filters within convolutional layers to transform data (more on that later), whereas RNNs are predictive, reusing activation functions from other data points in the sequence to generate the next output in a series.\n",
            "\n",
            "Once you look at the structure of both types of neural networks and understand what they are used for, the difference between CNN and RNN becomes more clear.\n"
          ]
        }
      ]
    },
    {
      "cell_type": "markdown",
      "source": [
        "# **TEXT** **PRE-PROCESSING**"
      ],
      "metadata": {
        "id": "_HOOTl84JbaA"
      }
    },
    {
      "cell_type": "markdown",
      "source": [
        "**StopWords**"
      ],
      "metadata": {
        "id": "hujkjE11J9gG"
      }
    },
    {
      "cell_type": "code",
      "source": [
        "#TO visualize the stop words\n",
        "stopWords =list(STOP_WORDS)\n",
        "print(stopWords)"
      ],
      "metadata": {
        "id": "kuBfYzw4JplO",
        "colab": {
          "base_uri": "https://localhost:8080/"
        },
        "outputId": "e0275233-a1f2-4ea3-c8ea-135bd9dc5ad5"
      },
      "execution_count": 5,
      "outputs": [
        {
          "output_type": "stream",
          "name": "stdout",
          "text": [
            "['done', 'top', 'ca', 'than', 'some', 'whoever', 'themselves', 'everyone', 'when', 'hereby', '‘m', 'nevertheless', 'keep', 'eleven', 'doing', 'those', 'without', 'go', 'these', 'perhaps', 'quite', 'get', 'have', 'had', 'did', 'his', 'below', 'only', '’ve', 'along', 'and', 'hereafter', 'put', 'hereupon', 'same', 'own', 'per', 'it', 'say', 'least', 'through', 'beforehand', 'herein', 'moreover', 'to', 'somehow', 'various', 'them', 'any', 'again', 'but', \"n't\", 'either', 'anything', 'an', 'sometime', 'is', 'who', 'still', 'last', 'while', 'at', 'whereupon', 'thereupon', 'whatever', 'else', 'however', 'the', 'three', 'down', 'becoming', 'against', 'your', 'above', 'full', 'behind', 'beyond', 'or', 'thereafter', 'hundred', 'nobody', 'you', 'many', 'front', 'until', 'of', 'us', 'then', 'under', 'bottom', 'why', 'how', 'another', \"'re\", '‘re', 'out', 'in', 'regarding', 'third', 'anyway', \"'m\", 'might', 'now', 'not', 'see', '’m', 'herself', \"'ve\", 'their', 'eight', 'made', 'n‘t', 'has', 'yours', 'each', 'meanwhile', 'nowhere', 'would', 'could', 'both', 'me', 'just', '‘ve', 'between', 'no', 'noone', 'such', 'this', 'former', 'he', 'before', '’ll', 'one', 'sixty', 'make', 'what', 'somewhere', 'should', 're', 'beside', 'except', '‘s', 'used', 'by', 'someone', 'i', 'several', 'anyone', 'others', 'take', 'due', 'all', 'less', 'mostly', 'over', 'enough', 'further', 'call', 'anywhere', 'towards', 'yourselves', 'off', 'because', 'with', 'everything', 'they', 'himself', '’d', 'so', 'wherein', 'must', 'most', 'give', 'fifteen', 'there', \"'s\", 'be', 'almost', 'for', 'upon', 'wherever', '‘ll', 'part', 'whence', 'fifty', 'elsewhere', 'even', 'otherwise', 'serious', 'therein', 'empty', 'nine', 'will', 'n’t', 'much', 'we', 'nor', 'throughout', 'her', 'thru', 'yourself', 'whose', 'as', 'thereby', \"'ll\", 'once', 'seemed', '’s', 'other', 'whenever', 'ever', 'hers', 'six', 'are', 'onto', 'amongst', 'always', 'everywhere', 'into', 'among', 'next', 'do', 'were', 'though', 'although', 'two', 'become', 'whereafter', 'using', 'does', 'four', \"'d\", 'often', 'a', 'here', 'since', 'yet', 'very', 'ten', 'around', 'nothing', 'already', 'neither', 'him', 'across', 'unless', 'please', 'am', 'our', 'where', 'alone', 'she', 'therefore', 'up', 'was', 'itself', 'its', 'together', 'every', 'never', 'whole', 'too', 'back', 'seem', 'whereas', 'being', 'formerly', 'afterwards', 'also', 'can', 'name', 'amount', 'few', 'becomes', 'seeming', 'during', 'none', '‘d', 'twelve', 'within', 'on', 'thence', 'toward', 'ours', 'about', 'that', 'ourselves', 'hence', 'been', 'sometimes', 'mine', 'anyhow', 'besides', 'namely', 'rather', 'really', 'thus', 'myself', 'cannot', 'may', 'forty', 'show', 'twenty', 'indeed', 'whether', 'seems', 'which', 'more', 'whom', 'latterly', 'from', 'whereby', '’re', 'five', 'if', 'whither', 'latter', 'first', 'after', 'move', 'side', 'my', 'via', 'something', 'well', 'became']\n"
          ]
        }
      ]
    },
    {
      "cell_type": "markdown",
      "source": [
        "**Load Spacy** **Language** **Pipeline**"
      ],
      "metadata": {
        "id": "fYVPtg4AMuRy"
      }
    },
    {
      "cell_type": "code",
      "source": [
        "#Loading english language.....(3 different packages are available  --small--medium--large). We are loading small packages.\n",
        "nlp = spacy.load('en_core_web_sm')"
      ],
      "metadata": {
        "id": "Ytvpj7WwK3n0"
      },
      "execution_count": 6,
      "outputs": []
    },
    {
      "cell_type": "code",
      "source": [
        "#We are passing the input data to spacy\n",
        "docs = nlp(doc)\n",
        "print(doc)"
      ],
      "metadata": {
        "colab": {
          "base_uri": "https://localhost:8080/"
        },
        "id": "0FMeYSS7LuzL",
        "outputId": "95a25b0a-62ce-4a99-c7a7-f6a9ad9e5ac5"
      },
      "execution_count": 7,
      "outputs": [
        {
          "output_type": "stream",
          "name": "stdout",
          "text": [
            "Artificial neural networks are the brains behind some of the most sophisticated applications of artificial intelligence (AI). But that doesn't mean understanding the different types needs to be complicated. When it comes to artificial neural networks — computing systems that mimic components of the brain — there are serious differences in type. Understanding these distinctive forms, and their nuances and varied applications, could make the difference between success and failure in your next AI and machine learning initiative.\n",
            "\n",
            "In machine learning, each type of artificial neural network is tailored to perform certain sets of tasks. In order to explain these tasks and the best approaches to completing them, this article will introduce two types of artificial neural networks: convolutional neural networks (CNNs) and recurrent neural networks (RNNs). Read on to learn about both types, associated key terms and the real-life applications deployed today, particularly in computer vision.\n",
            "\n",
            "What's the difference between CNN and RNN?\n",
            "The main difference between a CNN and an RNN is the ability to process temporal information — data that comes in sequences, such as a sentence. Recurrent neural networks are designed for this very purpose, while convolutional neural networks are incapable of effectively interpreting temporal information. As a result, CNNs and RNNs are used for completely distinct purposes, and there are differences in the structures of the neural networks themselves to fit those different use cases.\n",
            "\n",
            "CNNs employ filters within convolutional layers to transform data (more on that later), whereas RNNs are predictive, reusing activation functions from other data points in the sequence to generate the next output in a series.\n",
            "\n",
            "Once you look at the structure of both types of neural networks and understand what they are used for, the difference between CNN and RNN becomes more clear.\n"
          ]
        }
      ]
    },
    {
      "cell_type": "markdown",
      "source": [
        "**Word Tokenization**"
      ],
      "metadata": {
        "id": "BaohexVPM8N6"
      }
    },
    {
      "cell_type": "code",
      "source": [
        "#Word tokenization is performed\n",
        "tokens = [i.text for i in docs]\n",
        "print(tokens)"
      ],
      "metadata": {
        "colab": {
          "base_uri": "https://localhost:8080/"
        },
        "id": "R4CoumeiMWUh",
        "outputId": "ad2f4973-942e-4365-d25d-48e865425211"
      },
      "execution_count": 8,
      "outputs": [
        {
          "output_type": "stream",
          "name": "stdout",
          "text": [
            "['Artificial', 'neural', 'networks', 'are', 'the', 'brains', 'behind', 'some', 'of', 'the', 'most', 'sophisticated', 'applications', 'of', 'artificial', 'intelligence', '(', 'AI', ')', '.', 'But', 'that', 'does', \"n't\", 'mean', 'understanding', 'the', 'different', 'types', 'needs', 'to', 'be', 'complicated', '.', 'When', 'it', 'comes', 'to', 'artificial', 'neural', 'networks', '—', 'computing', 'systems', 'that', 'mimic', 'components', 'of', 'the', 'brain', '—', 'there', 'are', 'serious', 'differences', 'in', 'type', '.', 'Understanding', 'these', 'distinctive', 'forms', ',', 'and', 'their', 'nuances', 'and', 'varied', 'applications', ',', 'could', 'make', 'the', 'difference', 'between', 'success', 'and', 'failure', 'in', 'your', 'next', 'AI', 'and', 'machine', 'learning', 'initiative', '.', '\\n\\n', 'In', 'machine', 'learning', ',', 'each', 'type', 'of', 'artificial', 'neural', 'network', 'is', 'tailored', 'to', 'perform', 'certain', 'sets', 'of', 'tasks', '.', 'In', 'order', 'to', 'explain', 'these', 'tasks', 'and', 'the', 'best', 'approaches', 'to', 'completing', 'them', ',', 'this', 'article', 'will', 'introduce', 'two', 'types', 'of', 'artificial', 'neural', 'networks', ':', 'convolutional', 'neural', 'networks', '(', 'CNNs', ')', 'and', 'recurrent', 'neural', 'networks', '(', 'RNNs', ')', '.', 'Read', 'on', 'to', 'learn', 'about', 'both', 'types', ',', 'associated', 'key', 'terms', 'and', 'the', 'real', '-', 'life', 'applications', 'deployed', 'today', ',', 'particularly', 'in', 'computer', 'vision', '.', '\\n\\n', 'What', \"'s\", 'the', 'difference', 'between', 'CNN', 'and', 'RNN', '?', '\\n', 'The', 'main', 'difference', 'between', 'a', 'CNN', 'and', 'an', 'RNN', 'is', 'the', 'ability', 'to', 'process', 'temporal', 'information', '—', 'data', 'that', 'comes', 'in', 'sequences', ',', 'such', 'as', 'a', 'sentence', '.', 'Recurrent', 'neural', 'networks', 'are', 'designed', 'for', 'this', 'very', 'purpose', ',', 'while', 'convolutional', 'neural', 'networks', 'are', 'incapable', 'of', 'effectively', 'interpreting', 'temporal', 'information', '.', 'As', 'a', 'result', ',', 'CNNs', 'and', 'RNNs', 'are', 'used', 'for', 'completely', 'distinct', 'purposes', ',', 'and', 'there', 'are', 'differences', 'in', 'the', 'structures', 'of', 'the', 'neural', 'networks', 'themselves', 'to', 'fit', 'those', 'different', 'use', 'cases', '.', '\\n\\n', 'CNNs', 'employ', 'filters', 'within', 'convolutional', 'layers', 'to', 'transform', 'data', '(', 'more', 'on', 'that', 'later', ')', ',', 'whereas', 'RNNs', 'are', 'predictive', ',', 'reusing', 'activation', 'functions', 'from', 'other', 'data', 'points', 'in', 'the', 'sequence', 'to', 'generate', 'the', 'next', 'output', 'in', 'a', 'series', '.', '\\n\\n', 'Once', 'you', 'look', 'at', 'the', 'structure', 'of', 'both', 'types', 'of', 'neural', 'networks', 'and', 'understand', 'what', 'they', 'are', 'used', 'for', ',', 'the', 'difference', 'between', 'CNN', 'and', 'RNN', 'becomes', 'more', 'clear', '.']\n"
          ]
        }
      ]
    },
    {
      "cell_type": "markdown",
      "source": [
        "**Word Frequencies**"
      ],
      "metadata": {
        "id": "G8g5OaefNCrM"
      }
    },
    {
      "cell_type": "code",
      "source": [
        "word_frequencies = {} # Initialize word_frequencies as a dictionary\n",
        "for word in docs:\n",
        "    if word.text.lower() not in stopWords:\n",
        "      if word.text.lower() not in punctuation:\n",
        "        if word.text not in word_frequencies: # Check if the word is already a key in the dictionary\n",
        "          word_frequencies[word.text]=1\n",
        "        else:\n",
        "          word_frequencies[word.text] +=1\n",
        "\n",
        "print(word_frequencies)"
      ],
      "metadata": {
        "colab": {
          "base_uri": "https://localhost:8080/"
        },
        "id": "9o9o135LNHDp",
        "outputId": "0ddf59a1-3c1b-44eb-cf3f-12bebf35c5a2"
      },
      "execution_count": 9,
      "outputs": [
        {
          "output_type": "stream",
          "name": "stdout",
          "text": [
            "{'Artificial': 1, 'neural': 10, 'networks': 9, 'brains': 1, 'sophisticated': 1, 'applications': 3, 'artificial': 4, 'intelligence': 1, 'AI': 2, 'mean': 1, 'understanding': 1, 'different': 2, 'types': 4, 'needs': 1, 'complicated': 1, 'comes': 2, '—': 3, 'computing': 1, 'systems': 1, 'mimic': 1, 'components': 1, 'brain': 1, 'differences': 2, 'type': 2, 'Understanding': 1, 'distinctive': 1, 'forms': 1, 'nuances': 1, 'varied': 1, 'difference': 4, 'success': 1, 'failure': 1, 'machine': 2, 'learning': 2, 'initiative': 1, '\\n\\n': 4, 'network': 1, 'tailored': 1, 'perform': 1, 'certain': 1, 'sets': 1, 'tasks': 2, 'order': 1, 'explain': 1, 'best': 1, 'approaches': 1, 'completing': 1, 'article': 1, 'introduce': 1, 'convolutional': 3, 'CNNs': 3, 'recurrent': 1, 'RNNs': 3, 'Read': 1, 'learn': 1, 'associated': 1, 'key': 1, 'terms': 1, 'real': 1, 'life': 1, 'deployed': 1, 'today': 1, 'particularly': 1, 'computer': 1, 'vision': 1, 'CNN': 3, 'RNN': 3, '\\n': 1, 'main': 1, 'ability': 1, 'process': 1, 'temporal': 2, 'information': 2, 'data': 3, 'sequences': 1, 'sentence': 1, 'Recurrent': 1, 'designed': 1, 'purpose': 1, 'incapable': 1, 'effectively': 1, 'interpreting': 1, 'result': 1, 'completely': 1, 'distinct': 1, 'purposes': 1, 'structures': 1, 'fit': 1, 'use': 1, 'cases': 1, 'employ': 1, 'filters': 1, 'layers': 1, 'transform': 1, 'later': 1, 'predictive': 1, 'reusing': 1, 'activation': 1, 'functions': 1, 'points': 1, 'sequence': 1, 'generate': 1, 'output': 1, 'series': 1, 'look': 1, 'structure': 1, 'understand': 1, 'clear': 1}\n"
          ]
        }
      ]
    },
    {
      "cell_type": "markdown",
      "source": [
        "**Normalization**"
      ],
      "metadata": {
        "id": "DkzZamLqOeZb"
      }
    },
    {
      "cell_type": "code",
      "source": [
        "#taking max frequency for normalization\n",
        "\n",
        "maxFrequency = max(word_frequencies.values())\n",
        "maxFrequency"
      ],
      "metadata": {
        "colab": {
          "base_uri": "https://localhost:8080/"
        },
        "id": "1rioyHgxOjEy",
        "outputId": "d5ac5488-b2bb-40e3-e766-9568df91ef60"
      },
      "execution_count": 10,
      "outputs": [
        {
          "output_type": "execute_result",
          "data": {
            "text/plain": [
              "10"
            ]
          },
          "metadata": {},
          "execution_count": 10
        }
      ]
    },
    {
      "cell_type": "code",
      "source": [
        "#normalizing the data\n",
        "\n",
        "for i in word_frequencies.keys():\n",
        "  word_frequencies[i] = word_frequencies[i]/maxFrequency\n",
        "\n",
        "print(word_frequencies)"
      ],
      "metadata": {
        "colab": {
          "base_uri": "https://localhost:8080/"
        },
        "id": "mC6FY03jO3q2",
        "outputId": "6bd9cd84-f705-4f1c-9879-25b10b4d4c52"
      },
      "execution_count": 11,
      "outputs": [
        {
          "output_type": "stream",
          "name": "stdout",
          "text": [
            "{'Artificial': 0.1, 'neural': 1.0, 'networks': 0.9, 'brains': 0.1, 'sophisticated': 0.1, 'applications': 0.3, 'artificial': 0.4, 'intelligence': 0.1, 'AI': 0.2, 'mean': 0.1, 'understanding': 0.1, 'different': 0.2, 'types': 0.4, 'needs': 0.1, 'complicated': 0.1, 'comes': 0.2, '—': 0.3, 'computing': 0.1, 'systems': 0.1, 'mimic': 0.1, 'components': 0.1, 'brain': 0.1, 'differences': 0.2, 'type': 0.2, 'Understanding': 0.1, 'distinctive': 0.1, 'forms': 0.1, 'nuances': 0.1, 'varied': 0.1, 'difference': 0.4, 'success': 0.1, 'failure': 0.1, 'machine': 0.2, 'learning': 0.2, 'initiative': 0.1, '\\n\\n': 0.4, 'network': 0.1, 'tailored': 0.1, 'perform': 0.1, 'certain': 0.1, 'sets': 0.1, 'tasks': 0.2, 'order': 0.1, 'explain': 0.1, 'best': 0.1, 'approaches': 0.1, 'completing': 0.1, 'article': 0.1, 'introduce': 0.1, 'convolutional': 0.3, 'CNNs': 0.3, 'recurrent': 0.1, 'RNNs': 0.3, 'Read': 0.1, 'learn': 0.1, 'associated': 0.1, 'key': 0.1, 'terms': 0.1, 'real': 0.1, 'life': 0.1, 'deployed': 0.1, 'today': 0.1, 'particularly': 0.1, 'computer': 0.1, 'vision': 0.1, 'CNN': 0.3, 'RNN': 0.3, '\\n': 0.1, 'main': 0.1, 'ability': 0.1, 'process': 0.1, 'temporal': 0.2, 'information': 0.2, 'data': 0.3, 'sequences': 0.1, 'sentence': 0.1, 'Recurrent': 0.1, 'designed': 0.1, 'purpose': 0.1, 'incapable': 0.1, 'effectively': 0.1, 'interpreting': 0.1, 'result': 0.1, 'completely': 0.1, 'distinct': 0.1, 'purposes': 0.1, 'structures': 0.1, 'fit': 0.1, 'use': 0.1, 'cases': 0.1, 'employ': 0.1, 'filters': 0.1, 'layers': 0.1, 'transform': 0.1, 'later': 0.1, 'predictive': 0.1, 'reusing': 0.1, 'activation': 0.1, 'functions': 0.1, 'points': 0.1, 'sequence': 0.1, 'generate': 0.1, 'output': 0.1, 'series': 0.1, 'look': 0.1, 'structure': 0.1, 'understand': 0.1, 'clear': 0.1}\n"
          ]
        }
      ]
    },
    {
      "cell_type": "markdown",
      "source": [
        "**Sentence** **Tokenization**"
      ],
      "metadata": {
        "id": "eHuqcyhmPLxo"
      }
    },
    {
      "cell_type": "code",
      "source": [
        "sent_tokens = [sent for sent in docs.sents]\n",
        "print(sent_tokens)"
      ],
      "metadata": {
        "colab": {
          "base_uri": "https://localhost:8080/"
        },
        "id": "MlPeY3SmPX3n",
        "outputId": "91dbec6f-3d22-4e4f-bc31-83c3dcfdfcac"
      },
      "execution_count": 12,
      "outputs": [
        {
          "output_type": "stream",
          "name": "stdout",
          "text": [
            "[Artificial neural networks are the brains behind some of the most sophisticated applications of artificial intelligence (AI)., But that doesn't mean understanding the different types needs to be complicated., When it comes to artificial neural networks — computing systems that mimic components of the brain — there are serious differences in type., Understanding these distinctive forms, and their nuances and varied applications, could make the difference between success and failure in your next AI and machine learning initiative.\n",
            "\n",
            ", In machine learning, each type of artificial neural network is tailored to perform certain sets of tasks., In order to explain these tasks and the best approaches to completing them, this article will introduce two types of artificial neural networks: convolutional neural networks (CNNs) and recurrent neural networks (RNNs)., Read on to learn about both types, associated key terms and the real-life applications deployed today, particularly in computer vision.\n",
            "\n",
            ", What's the difference between CNN and RNN?\n",
            ", The main difference between a CNN and an RNN is the ability to process temporal information — data that comes in sequences, such as a sentence., Recurrent neural networks are designed for this very purpose, while convolutional neural networks are incapable of effectively interpreting temporal information., As a result, CNNs and RNNs are used for completely distinct purposes, and there are differences in the structures of the neural networks themselves to fit those different use cases.\n",
            "\n",
            ", CNNs employ filters within convolutional layers to transform data (more on that later), whereas RNNs are predictive, reusing activation functions from other data points in the sequence to generate the next output in a series.\n",
            "\n",
            ", Once you look at the structure of both types of neural networks and understand what they are used for, the difference between CNN and RNN becomes more clear.]\n"
          ]
        }
      ]
    },
    {
      "cell_type": "markdown",
      "source": [
        "**Sentence Score**"
      ],
      "metadata": {
        "id": "IhFido4pPhOv"
      }
    },
    {
      "cell_type": "code",
      "source": [
        "sentence_score = {}  # Initialize as an empty dictionary\n",
        "for sent in sent_tokens:\n",
        "  for word in sent:\n",
        "    if word.text.lower() in word_frequencies.keys():\n",
        "      if sent not in sentence_score:  # Check for key directly\n",
        "        sentence_score[sent] = word_frequencies[word.text.lower()]\n",
        "      else:\n",
        "          sentence_score[sent] += word_frequencies[word.text.lower()]\n",
        "\n",
        "print(sentence_score)"
      ],
      "metadata": {
        "colab": {
          "base_uri": "https://localhost:8080/"
        },
        "id": "3IGVRxjzPkIb",
        "outputId": "842827ac-a2e7-4e82-d2e3-efc92c196f32"
      },
      "execution_count": 13,
      "outputs": [
        {
          "output_type": "stream",
          "name": "stdout",
          "text": [
            "{Artificial neural networks are the brains behind some of the most sophisticated applications of artificial intelligence (AI).: 3.3, But that doesn't mean understanding the different types needs to be complicated.: 1.0, When it comes to artificial neural networks — computing systems that mimic components of the brain — there are serious differences in type.: 4.0, Understanding these distinctive forms, and their nuances and varied applications, could make the difference between success and failure in your next AI and machine learning initiative.\n",
            "\n",
            ": 2.3000000000000003, In machine learning, each type of artificial neural network is tailored to perform certain sets of tasks.: 2.7000000000000006, In order to explain these tasks and the best approaches to completing them, this article will introduce two types of artificial neural networks: convolutional neural networks (CNNs) and recurrent neural networks (RNNs).: 7.8, Read on to learn about both types, associated key terms and the real-life applications deployed today, particularly in computer vision.\n",
            "\n",
            ": 2.2, What's the difference between CNN and RNN?\n",
            ": 0.5, The main difference between a CNN and an RNN is the ability to process temporal information — data that comes in sequences, such as a sentence.: 2.1, Recurrent neural networks are designed for this very purpose, while convolutional neural networks are incapable of effectively interpreting temporal information.: 5.1, As a result, CNNs and RNNs are used for completely distinct purposes, and there are differences in the structures of the neural networks themselves to fit those different use cases.\n",
            "\n",
            ": 3.5000000000000004, CNNs employ filters within convolutional layers to transform data (more on that later), whereas RNNs are predictive, reusing activation functions from other data points in the sequence to generate the next output in a series.\n",
            "\n",
            ": 2.7000000000000006, Once you look at the structure of both types of neural networks and understand what they are used for, the difference between CNN and RNN becomes more clear.: 3.1}\n"
          ]
        }
      ]
    },
    {
      "cell_type": "code",
      "source": [
        "from heapq import nlargest"
      ],
      "metadata": {
        "id": "kDg3NTN7QfC2"
      },
      "execution_count": 14,
      "outputs": []
    },
    {
      "cell_type": "code",
      "source": [
        "select_len = int(len(sent_tokens)*0.3)\n",
        "select_len"
      ],
      "metadata": {
        "colab": {
          "base_uri": "https://localhost:8080/"
        },
        "id": "NdW2Ra2uQuVz",
        "outputId": "dc308be2-7e07-4117-d0fa-598d62526881"
      },
      "execution_count": 15,
      "outputs": [
        {
          "output_type": "execute_result",
          "data": {
            "text/plain": [
              "3"
            ]
          },
          "metadata": {},
          "execution_count": 15
        }
      ]
    },
    {
      "cell_type": "code",
      "source": [
        "summary = nlargest(select_len, sentence_score, sentence_score.get)\n",
        "summary"
      ],
      "metadata": {
        "colab": {
          "base_uri": "https://localhost:8080/"
        },
        "id": "Iak4wQTuQ0u5",
        "outputId": "ae896033-05a8-40fa-cc73-740d46527d61"
      },
      "execution_count": 16,
      "outputs": [
        {
          "output_type": "execute_result",
          "data": {
            "text/plain": [
              "[In order to explain these tasks and the best approaches to completing them, this article will introduce two types of artificial neural networks: convolutional neural networks (CNNs) and recurrent neural networks (RNNs).,\n",
              " Recurrent neural networks are designed for this very purpose, while convolutional neural networks are incapable of effectively interpreting temporal information.,\n",
              " When it comes to artificial neural networks — computing systems that mimic components of the brain — there are serious differences in type.]"
            ]
          },
          "metadata": {},
          "execution_count": 16
        }
      ]
    },
    {
      "cell_type": "code",
      "source": [
        "summary = [word.text for word in summary]\n",
        "summary"
      ],
      "metadata": {
        "colab": {
          "base_uri": "https://localhost:8080/"
        },
        "id": "f7mYyfVZRB6W",
        "outputId": "f49a2265-10f7-4f99-a819-b6bf853e3614"
      },
      "execution_count": 17,
      "outputs": [
        {
          "output_type": "execute_result",
          "data": {
            "text/plain": [
              "['In order to explain these tasks and the best approaches to completing them, this article will introduce two types of artificial neural networks: convolutional neural networks (CNNs) and recurrent neural networks (RNNs).',\n",
              " 'Recurrent neural networks are designed for this very purpose, while convolutional neural networks are incapable of effectively interpreting temporal information.',\n",
              " 'When it comes to artificial neural networks — computing systems that mimic components of the brain — there are serious differences in type.']"
            ]
          },
          "metadata": {},
          "execution_count": 17
        }
      ]
    },
    {
      "cell_type": "code",
      "source": [
        "summary = \" \".join(summary)\n",
        "summary"
      ],
      "metadata": {
        "colab": {
          "base_uri": "https://localhost:8080/",
          "height": 88
        },
        "id": "DHP_fVsLROCt",
        "outputId": "13873d44-875c-4b27-a391-54a6da743835"
      },
      "execution_count": 18,
      "outputs": [
        {
          "output_type": "execute_result",
          "data": {
            "text/plain": [
              "'In order to explain these tasks and the best approaches to completing them, this article will introduce two types of artificial neural networks: convolutional neural networks (CNNs) and recurrent neural networks (RNNs). Recurrent neural networks are designed for this very purpose, while convolutional neural networks are incapable of effectively interpreting temporal information. When it comes to artificial neural networks — computing systems that mimic components of the brain — there are serious differences in type.'"
            ],
            "application/vnd.google.colaboratory.intrinsic+json": {
              "type": "string"
            }
          },
          "metadata": {},
          "execution_count": 18
        }
      ]
    }
  ]
}